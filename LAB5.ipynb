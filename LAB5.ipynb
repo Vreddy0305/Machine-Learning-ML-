{
  "nbformat": 4,
  "nbformat_minor": 0,
  "metadata": {
    "colab": {
      "provenance": [],
      "authorship_tag": "ABX9TyOLBr5GvfUtqYlnyDMD8pkE",
      "include_colab_link": true
    },
    "kernelspec": {
      "name": "python3",
      "display_name": "Python 3"
    },
    "language_info": {
      "name": "python"
    }
  },
  "cells": [
    {
      "cell_type": "markdown",
      "metadata": {
        "id": "view-in-github",
        "colab_type": "text"
      },
      "source": [
        "<a href=\"https://colab.research.google.com/github/Vreddy0305/Machine-Learning-ML-/blob/main/LAB5.ipynb\" target=\"_parent\"><img src=\"https://colab.research.google.com/assets/colab-badge.svg\" alt=\"Open In Colab\"/></a>"
      ]
    },
    {
      "cell_type": "code",
      "execution_count": 3,
      "metadata": {
        "id": "UhUB3JlG3kjy",
        "colab": {
          "base_uri": "https://localhost:8080/",
          "height": 641
        },
        "outputId": "268d5f9e-86e4-4f8c-9e62-3ac460e1d266"
      },
      "outputs": [
        {
          "output_type": "stream",
          "name": "stdout",
          "text": [
            "4.8679990917792875 2.2063542534641365 0.7558010670389662 0.8911128068054599\n",
            "4.615961082013142 2.148478783235511 0.7511742814778952 0.8898170359356072\n",
            "1.267907927098922\n",
            "1.238766870948297\n",
            "[0 0 0 ... 0 0 0]\n",
            "[[2.02296968e+01 2.26100113e-04 3.43861794e+01]\n",
            " [2.16150413e+01 6.94214876e-03 4.93583471e+01]]\n",
            "0.9393047183237913\n",
            "45981.4604228738\n",
            "0.2924802951453581\n",
            "[(2, np.float64(0.9393047183237913), np.float64(45981.4604228738), np.float64(0.2924802951453581)), (3, np.float64(0.9185098794788434), np.float64(41694.036346306326), np.float64(0.469452161025673)), (4, np.float64(0.5830693679341239), np.float64(45756.88020713239), np.float64(0.5604728425619887)), (5, np.float64(0.5930101491155287), np.float64(58224.30139172258), np.float64(0.5054249731158653))]\n"
          ]
        },
        {
          "output_type": "display_data",
          "data": {
            "text/plain": [
              "<Figure size 640x480 with 1 Axes>"
            ],
            "image/png": "[encoded data removed]"
          },
          "metadata": {}
        }
      ],
      "source": [
        "# A1\n",
        "import pandas as pd\n",
        "from sklearn.model_selection import train_test_split\n",
        "from sklearn.linear_model import LinearRegression\n",
        "from sklearn.impute import SimpleImputer\n",
        "import numpy as np\n",
        "\n",
        "data = pd.read_csv(\"/content/merged_clean_dataset (1).csv\")\n",
        "X = data[['Gage_Height_ft']]\n",
        "y = data['Stream_Flow_cfs']\n",
        "\n",
        "X_train, X_test, y_train, y_test = train_test_split(X, y, test_size=0.2, random_state=1)\n",
        "model = LinearRegression()\n",
        "model.fit(X_train, y_train)\n",
        "y_train_pred = model.predict(X_train)\n",
        "y_test_pred = model.predict(X_test)\n",
        "\n",
        "# A2\n",
        "from sklearn.metrics import mean_squared_error, mean_absolute_percentage_error, r2_score\n",
        "import numpy as np\n",
        "\n",
        "mse_train = mean_squared_error(y_train, y_train_pred)\n",
        "rmse_train = np.sqrt(mse_train)\n",
        "mape_train = mean_absolute_percentage_error(y_train, y_train_pred)\n",
        "r2_train = r2_score(y_train, y_train_pred)\n",
        "\n",
        "mse_test = mean_squared_error(y_test, y_test_pred)\n",
        "rmse_test = np.sqrt(mse_test)\n",
        "mape_test = mean_absolute_percentage_error(y_test, y_test_pred)\n",
        "r2_test = r2_score(y_test, y_test_pred)\n",
        "\n",
        "print(mse_train, rmse_train, mape_train, r2_train)\n",
        "print(mse_test, rmse_test, mape_test, r2_test)\n",
        "\n",
        "# A3\n",
        "X = data[['Gage_Height_ft','Precipitation_in','Reservoir_Storage_acre_ft']]\n",
        "y = data['Stream_Flow_cfs']\n",
        "\n",
        "# Impute missing values before splitting the data\n",
        "imputer = SimpleImputer(missing_values=np.nan, strategy='mean')\n",
        "X_imputed = imputer.fit_transform(X)\n",
        "X_imputed = pd.DataFrame(X_imputed, columns=X.columns) # Convert back to DataFrame\n",
        "\n",
        "X_train, X_test, y_train, y_test = train_test_split(X_imputed, y, test_size=0.2, random_state=1)\n",
        "model = LinearRegression()\n",
        "model.fit(X_train, y_train)\n",
        "y_train_pred = model.predict(X_train)\n",
        "y_test_pred = model.predict(X_test)\n",
        "\n",
        "print(mean_squared_error(y_train, y_train_pred))\n",
        "print(mean_squared_error(y_test, y_test_pred))\n",
        "\n",
        "# A4\n",
        "from sklearn.cluster import KMeans\n",
        "\n",
        "# Impute missing values for clustering as well\n",
        "imputer = SimpleImputer(missing_values=np.nan, strategy='mean')\n",
        "X_imputed = imputer.fit_transform(data[['Gage_Height_ft','Precipitation_in','Reservoir_Storage_acre_ft']])\n",
        "X_imputed = pd.DataFrame(X_imputed, columns=['Gage_Height_ft','Precipitation_in','Reservoir_Storage_acre_ft']) # Convert back to DataFrame\n",
        "\n",
        "kmeans = KMeans(n_clusters=2, random_state=0, n_init=10)\n",
        "kmeans.fit(X_imputed)\n",
        "print(kmeans.labels_)\n",
        "print(kmeans.cluster_centers_)\n",
        "\n",
        "# A5\n",
        "from sklearn.metrics import silhouette_score, calinski_harabasz_score, davies_bouldin_score\n",
        "\n",
        "print(silhouette_score(X_imputed, kmeans.labels_))\n",
        "print(calinski_harabasz_score(X_imputed, kmeans.labels_))\n",
        "print(davies_bouldin_score(X_imputed, kmeans.labels_))\n",
        "\n",
        "# A6\n",
        "scores = []\n",
        "for k in range(2, 6):\n",
        "    kmeans = KMeans(n_clusters=k, random_state=0, n_init=10).fit(X_imputed)\n",
        "    s = silhouette_score(X_imputed, kmeans.labels_)\n",
        "    c = calinski_harabasz_score(X_imputed, kmeans.labels_)\n",
        "    d = davies_bouldin_score(X_imputed, kmeans.labels_)\n",
        "    scores.append((k, s, c, d))\n",
        "print(scores)\n",
        "\n",
        "# A7\n",
        "import matplotlib.pyplot as plt\n",
        "\n",
        "distortions = []\n",
        "for k in range(2, 10):\n",
        "    kmeans = KMeans(n_clusters=k, random_state=0, n_init=10).fit(X_imputed)\n",
        "    distortions.append(kmeans.inertia_)\n",
        "plt.plot(range(2, 10), distortions)\n",
        "plt.show()"
      ]
    }
  ]
}